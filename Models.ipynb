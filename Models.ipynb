{
  "cells": [
    {
      "cell_type": "markdown",
      "metadata": {
        "id": "view-in-github",
        "colab_type": "text"
      },
      "source": [
        "<a href=\"https://colab.research.google.com/github/sruthi2498/Arduino-based-smart-glove/blob/master/Models.ipynb\" target=\"_parent\"><img src=\"https://colab.research.google.com/assets/colab-badge.svg\" alt=\"Open In Colab\"/></a>"
      ]
    },
    {
      "cell_type": "code",
      "execution_count": 8,
      "metadata": {
        "id": "nPedNmq9oT79"
      },
      "outputs": [],
      "source": [
        "import re\n",
        "import pandas as pd\n",
        "import string\n",
        "import json\n",
        "import requests\n",
        "import numpy as np"
      ]
    },
    {
      "cell_type": "code",
      "source": [
        "import numpy as np\n",
        "import pandas as pd\n",
        "import seaborn as sns\n",
        "import matplotlib.pyplot as plt\n",
        "\n",
        "import keras\n",
        "from keras import optimizers, Model\n",
        "from keras import backend as K\n",
        "from keras import regularizers\n",
        "from keras.models import Sequential\n",
        "from keras.layers import Dense, Activation, Dropout, Flatten, SpatialDropout1D, LSTM, Bidirectional, TimeDistributed, Input\n",
        "from keras.layers import Embedding, Conv1D, MaxPooling1D, GlobalMaxPooling1D \n",
        "from keras.utils.vis_utils import plot_model\n",
        "from keras.preprocessing import sequence\n",
        "from keras.preprocessing.text import Tokenizer\n",
        "from keras.callbacks import EarlyStopping\n",
        "\n",
        "from tqdm import tqdm\n",
        "from nltk.corpus import stopwords\n",
        "from nltk.tokenize import RegexpTokenizer \n",
        "import os, re, csv, math, codecs"
      ],
      "metadata": {
        "id": "FWrH8Hzw8AUw"
      },
      "execution_count": 12,
      "outputs": []
    },
    {
      "cell_type": "code",
      "execution_count": 2,
      "metadata": {
        "colab": {
          "base_uri": "https://localhost:8080/",
          "height": 206
        },
        "id": "_j1BrcQ2oaIq",
        "outputId": "9bfaaa30-7a8d-448e-b8c6-c1bde008435c"
      },
      "outputs": [
        {
          "output_type": "execute_result",
          "data": {
            "text/plain": [
              "    tweet_id                                              tweet  anger  \\\n",
              "0      46149  don ko11mulko ki police sms kar rahi hai par d...      0   \n",
              "1   40317002  khushi ki talaash me sabhi haiyn kya maiyn aur...      0   \n",
              "2   40319032  are dostoin aao aur apne thoughts share karo l...      0   \n",
              "3  308624342  na tum aa sako gay na phir baat hogi yeh kaisi...      0   \n",
              "4  596311632  meethe gud me mil gaye til udi patang aur khil...      0   \n",
              "\n",
              "   disgust  fear  happiness  sadness  surprise  \n",
              "0        0     0          1        0         0  \n",
              "1        0     0          0        1         0  \n",
              "2        0     0          0        1         0  \n",
              "3        0     0          0        1         0  \n",
              "4        0     0          1        0         0  "
            ],
            "text/html": [
              "\n",
              "  <div id=\"df-1c103656-542d-47f4-98a0-b9c8f8fbfa8f\">\n",
              "    <div class=\"colab-df-container\">\n",
              "      <div>\n",
              "<style scoped>\n",
              "    .dataframe tbody tr th:only-of-type {\n",
              "        vertical-align: middle;\n",
              "    }\n",
              "\n",
              "    .dataframe tbody tr th {\n",
              "        vertical-align: top;\n",
              "    }\n",
              "\n",
              "    .dataframe thead th {\n",
              "        text-align: right;\n",
              "    }\n",
              "</style>\n",
              "<table border=\"1\" class=\"dataframe\">\n",
              "  <thead>\n",
              "    <tr style=\"text-align: right;\">\n",
              "      <th></th>\n",
              "      <th>tweet_id</th>\n",
              "      <th>tweet</th>\n",
              "      <th>anger</th>\n",
              "      <th>disgust</th>\n",
              "      <th>fear</th>\n",
              "      <th>happiness</th>\n",
              "      <th>sadness</th>\n",
              "      <th>surprise</th>\n",
              "    </tr>\n",
              "  </thead>\n",
              "  <tbody>\n",
              "    <tr>\n",
              "      <th>0</th>\n",
              "      <td>46149</td>\n",
              "      <td>don ko11mulko ki police sms kar rahi hai par d...</td>\n",
              "      <td>0</td>\n",
              "      <td>0</td>\n",
              "      <td>0</td>\n",
              "      <td>1</td>\n",
              "      <td>0</td>\n",
              "      <td>0</td>\n",
              "    </tr>\n",
              "    <tr>\n",
              "      <th>1</th>\n",
              "      <td>40317002</td>\n",
              "      <td>khushi ki talaash me sabhi haiyn kya maiyn aur...</td>\n",
              "      <td>0</td>\n",
              "      <td>0</td>\n",
              "      <td>0</td>\n",
              "      <td>0</td>\n",
              "      <td>1</td>\n",
              "      <td>0</td>\n",
              "    </tr>\n",
              "    <tr>\n",
              "      <th>2</th>\n",
              "      <td>40319032</td>\n",
              "      <td>are dostoin aao aur apne thoughts share karo l...</td>\n",
              "      <td>0</td>\n",
              "      <td>0</td>\n",
              "      <td>0</td>\n",
              "      <td>0</td>\n",
              "      <td>1</td>\n",
              "      <td>0</td>\n",
              "    </tr>\n",
              "    <tr>\n",
              "      <th>3</th>\n",
              "      <td>308624342</td>\n",
              "      <td>na tum aa sako gay na phir baat hogi yeh kaisi...</td>\n",
              "      <td>0</td>\n",
              "      <td>0</td>\n",
              "      <td>0</td>\n",
              "      <td>0</td>\n",
              "      <td>1</td>\n",
              "      <td>0</td>\n",
              "    </tr>\n",
              "    <tr>\n",
              "      <th>4</th>\n",
              "      <td>596311632</td>\n",
              "      <td>meethe gud me mil gaye til udi patang aur khil...</td>\n",
              "      <td>0</td>\n",
              "      <td>0</td>\n",
              "      <td>0</td>\n",
              "      <td>1</td>\n",
              "      <td>0</td>\n",
              "      <td>0</td>\n",
              "    </tr>\n",
              "  </tbody>\n",
              "</table>\n",
              "</div>\n",
              "      <button class=\"colab-df-convert\" onclick=\"convertToInteractive('df-1c103656-542d-47f4-98a0-b9c8f8fbfa8f')\"\n",
              "              title=\"Convert this dataframe to an interactive table.\"\n",
              "              style=\"display:none;\">\n",
              "        \n",
              "  <svg xmlns=\"http://www.w3.org/2000/svg\" height=\"24px\"viewBox=\"0 0 24 24\"\n",
              "       width=\"24px\">\n",
              "    <path d=\"M0 0h24v24H0V0z\" fill=\"none\"/>\n",
              "    <path d=\"M18.56 5.44l.94 2.06.94-2.06 2.06-.94-2.06-.94-.94-2.06-.94 2.06-2.06.94zm-11 1L8.5 8.5l.94-2.06 2.06-.94-2.06-.94L8.5 2.5l-.94 2.06-2.06.94zm10 10l.94 2.06.94-2.06 2.06-.94-2.06-.94-.94-2.06-.94 2.06-2.06.94z\"/><path d=\"M17.41 7.96l-1.37-1.37c-.4-.4-.92-.59-1.43-.59-.52 0-1.04.2-1.43.59L10.3 9.45l-7.72 7.72c-.78.78-.78 2.05 0 2.83L4 21.41c.39.39.9.59 1.41.59.51 0 1.02-.2 1.41-.59l7.78-7.78 2.81-2.81c.8-.78.8-2.07 0-2.86zM5.41 20L4 18.59l7.72-7.72 1.47 1.35L5.41 20z\"/>\n",
              "  </svg>\n",
              "      </button>\n",
              "      \n",
              "  <style>\n",
              "    .colab-df-container {\n",
              "      display:flex;\n",
              "      flex-wrap:wrap;\n",
              "      gap: 12px;\n",
              "    }\n",
              "\n",
              "    .colab-df-convert {\n",
              "      background-color: #E8F0FE;\n",
              "      border: none;\n",
              "      border-radius: 50%;\n",
              "      cursor: pointer;\n",
              "      display: none;\n",
              "      fill: #1967D2;\n",
              "      height: 32px;\n",
              "      padding: 0 0 0 0;\n",
              "      width: 32px;\n",
              "    }\n",
              "\n",
              "    .colab-df-convert:hover {\n",
              "      background-color: #E2EBFA;\n",
              "      box-shadow: 0px 1px 2px rgba(60, 64, 67, 0.3), 0px 1px 3px 1px rgba(60, 64, 67, 0.15);\n",
              "      fill: #174EA6;\n",
              "    }\n",
              "\n",
              "    [theme=dark] .colab-df-convert {\n",
              "      background-color: #3B4455;\n",
              "      fill: #D2E3FC;\n",
              "    }\n",
              "\n",
              "    [theme=dark] .colab-df-convert:hover {\n",
              "      background-color: #434B5C;\n",
              "      box-shadow: 0px 1px 3px 1px rgba(0, 0, 0, 0.15);\n",
              "      filter: drop-shadow(0px 1px 2px rgba(0, 0, 0, 0.3));\n",
              "      fill: #FFFFFF;\n",
              "    }\n",
              "  </style>\n",
              "\n",
              "      <script>\n",
              "        const buttonEl =\n",
              "          document.querySelector('#df-1c103656-542d-47f4-98a0-b9c8f8fbfa8f button.colab-df-convert');\n",
              "        buttonEl.style.display =\n",
              "          google.colab.kernel.accessAllowed ? 'block' : 'none';\n",
              "\n",
              "        async function convertToInteractive(key) {\n",
              "          const element = document.querySelector('#df-1c103656-542d-47f4-98a0-b9c8f8fbfa8f');\n",
              "          const dataTable =\n",
              "            await google.colab.kernel.invokeFunction('convertToInteractive',\n",
              "                                                     [key], {});\n",
              "          if (!dataTable) return;\n",
              "\n",
              "          const docLinkHtml = 'Like what you see? Visit the ' +\n",
              "            '<a target=\"_blank\" href=https://colab.research.google.com/notebooks/data_table.ipynb>data table notebook</a>'\n",
              "            + ' to learn more about interactive tables.';\n",
              "          element.innerHTML = '';\n",
              "          dataTable['output_type'] = 'display_data';\n",
              "          await google.colab.output.renderOutput(dataTable, element);\n",
              "          const docLink = document.createElement('div');\n",
              "          docLink.innerHTML = docLinkHtml;\n",
              "          element.appendChild(docLink);\n",
              "        }\n",
              "      </script>\n",
              "    </div>\n",
              "  </div>\n",
              "  "
            ]
          },
          "metadata": {},
          "execution_count": 2
        }
      ],
      "source": [
        "url = \"https://raw.githubusercontent.com/paresh-nayyar/CSCI-544_NLP/master/data/Towards_Emotion_Recognition_text%26emotions.csv?token=GHSAT0AAAAAABQE6M6KU545Y63IPZNPX34OYSXJ4EQ\"\n",
        "df = pd.read_csv(url)\n",
        "df.head()"
      ]
    },
    {
      "cell_type": "code",
      "source": [
        "from google.colab import drive\n",
        "drive.mount('/content/drive')\n",
        "!ls"
      ],
      "metadata": {
        "colab": {
          "base_uri": "https://localhost:8080/"
        },
        "id": "sf5Yx3OJ26Hy",
        "outputId": "b2ccd73b-beec-4d99-bb3d-466551b95d9e"
      },
      "execution_count": 3,
      "outputs": [
        {
          "output_type": "stream",
          "name": "stdout",
          "text": [
            "Mounted at /content/drive\n",
            "drive  sample_data\n"
          ]
        }
      ]
    },
    {
      "cell_type": "code",
      "source": [
        "%cd drive/My Drive/\n",
        "# !ls"
      ],
      "metadata": {
        "id": "igqpsZ-x3Bag",
        "outputId": "d3ccd2d2-ba30-46a4-f11f-1b9cc21db96e",
        "colab": {
          "base_uri": "https://localhost:8080/"
        }
      },
      "execution_count": 4,
      "outputs": [
        {
          "output_type": "stream",
          "name": "stdout",
          "text": [
            "/content/drive/My Drive\n",
            "'Applied NLP App Idea : Vernacular Programming.gdoc'\n",
            " code_mix_sentences_emotions_tagged.xlsx\n",
            "'Colab Notebooks'\n",
            " fasttext_model\n",
            "'Honors Statement.gdoc'\n",
            " I-20_Venkatavaradan_Sruthi_4_N0031930432_1638314915746.pdf\n",
            " MusicAlbumSimilarity.gdoc\n",
            " NLI_training\n",
            " PersonalStatement.pdf\n",
            "'question papers.zip'\n",
            "'RL question.gdoc'\n",
            "'SAIL_CodeMixed_2017_results (1).csv'\n",
            "'SruthiVenkatavaradan_DS (1).pdf'\n",
            "'SruthiVenkatavaradan_DS (2).pdf'\n",
            "'SruthiVenkatavaradan_DS (3).pdf'\n",
            "'SruthiVenkatavaradan_DS (4).pdf'\n",
            " SruthiVenkatavaradan_DS.pdf\n",
            "'Sruthi-Venkatavaradan Honors Program LOR.gdoc'\n",
            " SruthiVenkatavaradan_SE.pdf\n",
            "'Untitled document.gdoc'\n",
            "'Untitled spreadsheet (1).gsheet'\n",
            "'Untitled spreadsheet.gsheet'\n",
            " USC\n"
          ]
        }
      ]
    },
    {
      "cell_type": "code",
      "execution_count": 5,
      "metadata": {
        "id": "NTCVX5-Koc41"
      },
      "outputs": [],
      "source": [
        "from gensim.models import FastText\n",
        "fasttext_url = \"./fasttext_model/fasttext_model.model\"\n",
        "embeddings_index = FastText.load(fasttext_url)"
      ]
    },
    {
      "cell_type": "code",
      "source": [
        "train_df = df\n",
        "test_df= df"
      ],
      "metadata": {
        "id": "_lmYBw0I7acq"
      },
      "execution_count": 6,
      "outputs": []
    },
    {
      "cell_type": "code",
      "source": [
        ""
      ],
      "metadata": {
        "id": "21u5zKza7Y3A"
      },
      "execution_count": null,
      "outputs": []
    },
    {
      "cell_type": "code",
      "execution_count": 9,
      "metadata": {
        "id": "s_YTkU6moc-4",
        "outputId": "a11d52df-637f-46fd-bf45-a00103e213b0",
        "colab": {
          "base_uri": "https://localhost:8080/"
        }
      },
      "outputs": [
        {
          "output_type": "stream",
          "name": "stdout",
          "text": [
            "28\n"
          ]
        }
      ],
      "source": [
        "label_names = ['anger', 'disgust', 'fear', 'happiness', 'sadness', 'surprise']\n",
        "y_train = train_df[label_names].values\n",
        "y_test = test_df[label_names].values\n",
        "\n",
        "train_df['doc_len'] = train_df['tweet'].astype(str).apply(lambda words: len(words.split(\" \")))\n",
        "max_seq_len = np.round(train_df['doc_len'].mean() + train_df['doc_len'].std()).astype(int)\n",
        "#max_seq_len = train_df['doc_len'].max()\n",
        "print(max_seq_len)\n"
      ]
    },
    {
      "cell_type": "code",
      "source": [
        "processed_docs_train = train_df['tweet'].astype(str).tolist()\n",
        "processed_docs_test = test_df['tweet'].astype(str).tolist() \n",
        "num_classes = len(label_names)\n"
      ],
      "metadata": {
        "id": "m7ud2eWd7qRf"
      },
      "execution_count": 10,
      "outputs": []
    },
    {
      "cell_type": "code",
      "source": [
        "MAX_NB_WORDS = 200000\n",
        "tokenizer = RegexpTokenizer(r'\\w+')"
      ],
      "metadata": {
        "id": "Ib5HfDhG8Qzz"
      },
      "execution_count": 14,
      "outputs": []
    },
    {
      "cell_type": "code",
      "source": [
        "print(\"tokenizing input data...\")\n",
        "tokenizer = Tokenizer(num_words=MAX_NB_WORDS, lower=True, char_level=False)\n",
        "total_docs=[]\n",
        "total_docs.extend(processed_docs_train)\n",
        "total_docs.extend(processed_docs_test)\n",
        "#tokenizer.fit_on_texts(processed_docs_train + processed_docs_test)  #leaky\n",
        "tokenizer.fit_on_texts(total_docs)\n",
        "word_seq_train = tokenizer.texts_to_sequences(processed_docs_train)\n",
        "#print(word_seq_train)\n",
        "word_seq_test = tokenizer.texts_to_sequences(processed_docs_test)\n",
        "word_index = tokenizer.word_index\n",
        "print(len(word_index))\n",
        "print(\"dictionary size: \", len(word_index))\n",
        "\n",
        "#pad sequences\n",
        "word_seq_train = sequence.pad_sequences(word_seq_train, maxlen=max_seq_len)\n",
        "print(word_seq_train[2])\n",
        "word_seq_test = sequence.pad_sequences(word_seq_test, maxlen=max_seq_len)"
      ],
      "metadata": {
        "id": "aLDFChom7qUP",
        "outputId": "c1b3aa5c-7c38-4875-f397-d00275e8525f",
        "colab": {
          "base_uri": "https://localhost:8080/"
        }
      },
      "execution_count": 15,
      "outputs": [
        {
          "output_type": "stream",
          "name": "stdout",
          "text": [
            "tokenizing input data...\n",
            "235929\n",
            "dictionary size:  235929\n",
            "[    0     0   262 72837   908    12    77  2536   746   137   584   512\n",
            "   243    12    17     6   963    14 72838   649   205     7 72839  1315\n",
            "  2570   166   842  1229]\n"
          ]
        }
      ]
    },
    {
      "cell_type": "code",
      "source": [
        "#training params\n",
        "batch_size = 64\n",
        "num_epochs = 8 \n",
        "\n",
        "#model parameters\n",
        "num_filters = 128 \n",
        "num_kernels=200\n",
        "stride=1\n",
        "embed_dim = 300\n",
        "weight_decay = 1e-4\n",
        "\n",
        "#parallel layers \n",
        "kernel_size=7\n",
        "kernel_size_p1=3\n",
        "kernel_size_p2=6\n",
        "kernel_size_p3=9\n",
        "kernel_size_p4=12"
      ],
      "metadata": {
        "id": "uAx7tdHf8aRX"
      },
      "execution_count": 16,
      "outputs": []
    },
    {
      "cell_type": "code",
      "source": [
        "#embedding matrix\n",
        "print('preparing embedding matrix...')\n",
        "words_not_found = []\n",
        "nb_words = min(MAX_NB_WORDS, len(word_index))\n",
        "embedding_matrix = np.zeros((nb_words, embed_dim))\n",
        "for word, i in word_index.items():\n",
        "    if i >= nb_words:\n",
        "        continue\n",
        "    #print(word)\n",
        "\n",
        "    if embeddings_index.wv.__contains__(word): \n",
        "\n",
        "        embedding_vector = embeddings_index.wv[word]\n",
        "    \n",
        "        embedding_matrix[i] = embedding_vector\n",
        "    else:\n",
        "        words_not_found.append(word)\n",
        "#print(embedding_matrix)\n",
        "print('number of null word embeddings: %d' % np.sum(np.sum(embedding_matrix, axis=1) == 0))"
      ],
      "metadata": {
        "id": "8eEMdTfc8aUG",
        "outputId": "425d4f6c-abf8-4c6b-e94b-d2a02f0de16a",
        "colab": {
          "base_uri": "https://localhost:8080/"
        }
      },
      "execution_count": 17,
      "outputs": [
        {
          "output_type": "stream",
          "name": "stdout",
          "text": [
            "preparing embedding matrix...\n",
            "number of null word embeddings: 1\n"
          ]
        }
      ]
    },
    {
      "cell_type": "code",
      "source": [
        "print(len(embedding_matrix[34]))\n",
        "print(words_not_found)\n"
      ],
      "metadata": {
        "id": "onrszb_M8aXL",
        "outputId": "cc03de13-1bc6-4955-d431-cb42710c0f64",
        "colab": {
          "base_uri": "https://localhost:8080/"
        }
      },
      "execution_count": 21,
      "outputs": [
        {
          "output_type": "stream",
          "name": "stdout",
          "text": [
            "300\n",
            "[]\n"
          ]
        }
      ]
    },
    {
      "cell_type": "code",
      "source": [
        "print(\"training CNN ...\")\n",
        "model = Sequential()\n",
        "model.add(Embedding(nb_words, embed_dim,\n",
        "          weights=[embedding_matrix], input_length=max_seq_len, trainable=False))\n",
        "model.add(Conv1D(num_kernels, kernel_size, activation='relu', padding='same'))\n",
        "model.add(MaxPooling1D(2))\n",
        "model.add(Conv1D(num_kernels, kernel_size, activation='relu', padding='same'))\n",
        "#model.add(GlobalMaxPooling1D())\n",
        "model.add(MaxPooling1D(2))\n",
        "#model.add(Dense(64, activation='relu', kernel_regularizer=regularizers.l2(weight_decay)))\n",
        "model.add(GlobalMaxPooling1D())\n",
        "model.add(Dropout(0.5))\n",
        "model.add(Dense(128, activation='relu'))\n",
        "model.add(Dense(64, activation='relu'))\n",
        "#model.add(Dense(num_classes, activation='sigmoid'))  #multi-label (k-hot encoding)\n",
        "model.add(Dense(num_classes, activation='sigmoid')) \n",
        "\n",
        "# adam = optimizers.Adam(lr=0.001, beta_1=0.9, beta_2=0.999, epsilon=1e-08, decay=0.0)\n",
        "model.compile(loss='categorical_crossentropy', optimizer='adam', metrics=['accuracy'])\n",
        "model.summary()"
      ],
      "metadata": {
        "id": "Xxz0vNdr8aaG",
        "outputId": "9c07175e-9417-4612-d5ea-974454394f9d",
        "colab": {
          "base_uri": "https://localhost:8080/"
        }
      },
      "execution_count": 23,
      "outputs": [
        {
          "output_type": "stream",
          "name": "stdout",
          "text": [
            "training CNN ...\n",
            "Model: \"sequential_1\"\n",
            "_________________________________________________________________\n",
            " Layer (type)                Output Shape              Param #   \n",
            "=================================================================\n",
            " embedding_1 (Embedding)     (None, 28, 300)           60000000  \n",
            "                                                                 \n",
            " conv1d_2 (Conv1D)           (None, 28, 200)           420200    \n",
            "                                                                 \n",
            " max_pooling1d_2 (MaxPooling  (None, 14, 200)          0         \n",
            " 1D)                                                             \n",
            "                                                                 \n",
            " conv1d_3 (Conv1D)           (None, 14, 200)           280200    \n",
            "                                                                 \n",
            " max_pooling1d_3 (MaxPooling  (None, 7, 200)           0         \n",
            " 1D)                                                             \n",
            "                                                                 \n",
            " global_max_pooling1d_1 (Glo  (None, 200)              0         \n",
            " balMaxPooling1D)                                                \n",
            "                                                                 \n",
            " dropout_1 (Dropout)         (None, 200)               0         \n",
            "                                                                 \n",
            " dense_3 (Dense)             (None, 128)               25728     \n",
            "                                                                 \n",
            " dense_4 (Dense)             (None, 64)                8256      \n",
            "                                                                 \n",
            " dense_5 (Dense)             (None, 6)                 390       \n",
            "                                                                 \n",
            "=================================================================\n",
            "Total params: 60,734,774\n",
            "Trainable params: 734,774\n",
            "Non-trainable params: 60,000,000\n",
            "_________________________________________________________________\n"
          ]
        }
      ]
    },
    {
      "cell_type": "code",
      "source": [
        "hist = model.fit(word_seq_train, y_train, batch_size=batch_size, epochs=num_epochs, validation_split=0.1, shuffle=True)\n"
      ],
      "metadata": {
        "id": "hHllXhHY7qWh",
        "outputId": "1806133c-371a-4310-e697-34e366577372",
        "colab": {
          "base_uri": "https://localhost:8080/"
        }
      },
      "execution_count": 24,
      "outputs": [
        {
          "metadata": {
            "tags": null
          },
          "name": "stdout",
          "output_type": "stream",
          "text": [
            "Epoch 1/8\n",
            "1895/1895 [==============================] - 353s 186ms/step - loss: 0.2234 - accuracy: 0.9265 - val_loss: 0.2323 - val_accuracy: 0.9221\n",
            "Epoch 2/8\n",
            "1895/1895 [==============================] - 315s 166ms/step - loss: 0.1350 - accuracy: 0.9575 - val_loss: 0.1882 - val_accuracy: 0.9366\n",
            "Epoch 3/8\n",
            "1895/1895 [==============================] - 313s 165ms/step - loss: 0.1192 - accuracy: 0.9625 - val_loss: 0.1696 - val_accuracy: 0.9437\n",
            "Epoch 4/8\n",
            "1895/1895 [==============================] - 299s 158ms/step - loss: 0.1131 - accuracy: 0.9634 - val_loss: 0.1877 - val_accuracy: 0.9442\n",
            "Epoch 5/8\n",
            "1895/1895 [==============================] - 282s 149ms/step - loss: 0.1053 - accuracy: 0.9662 - val_loss: 0.1673 - val_accuracy: 0.9454\n",
            "Epoch 6/8\n",
            "1895/1895 [==============================] - 294s 155ms/step - loss: 0.1014 - accuracy: 0.9675 - val_loss: 0.1390 - val_accuracy: 0.9526\n",
            "Epoch 7/8\n",
            "1895/1895 [==============================] - 310s 164ms/step - loss: 0.0962 - accuracy: 0.9689 - val_loss: 0.1651 - val_accuracy: 0.9463\n",
            "Epoch 8/8\n",
            "1895/1895 [==============================] - 321s 169ms/step - loss: 0.0903 - accuracy: 0.9703 - val_loss: 0.1811 - val_accuracy: 0.9416\n"
          ]
        }
      ]
    }
  ],
  "metadata": {
    "colab": {
      "name": "Models.ipynb",
      "provenance": [],
      "include_colab_link": true
    },
    "kernelspec": {
      "display_name": "Python 3",
      "name": "python3"
    },
    "language_info": {
      "name": "python"
    }
  },
  "nbformat": 4,
  "nbformat_minor": 0
}